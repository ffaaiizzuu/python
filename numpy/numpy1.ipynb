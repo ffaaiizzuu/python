{
 "cells": [
  {
   "cell_type": "code",
   "execution_count": 1,
   "id": "24c76037-693b-48f9-bf3f-f8753ba8cd46",
   "metadata": {},
   "outputs": [],
   "source": [
    "import numpy as np"
   ]
  },
  {
   "cell_type": "code",
   "execution_count": 8,
   "id": "652227f5-1e78-488d-950f-532125d2c440",
   "metadata": {},
   "outputs": [
    {
     "ename": "NameError",
     "evalue": "name 'int64' is not defined",
     "output_type": "error",
     "traceback": [
      "\u001b[31m---------------------------------------------------------------------------\u001b[39m",
      "\u001b[31mNameError\u001b[39m                                 Traceback (most recent call last)",
      "\u001b[36mCell\u001b[39m\u001b[36m \u001b[39m\u001b[32mIn[8]\u001b[39m\u001b[32m, line 1\u001b[39m\n\u001b[32m----> \u001b[39m\u001b[32m1\u001b[39m myarr = np.array([[\u001b[32m3\u001b[39m,\u001b[32m4\u001b[39m,\u001b[32m6\u001b[39m,\u001b[32m8\u001b[39m]], dtype=\u001b[43mint64\u001b[49m)\n",
      "\u001b[31mNameError\u001b[39m: name 'int64' is not defined"
     ]
    }
   ],
   "source": [
    "myarr = np.array([[3,4,6,8]], dtype=int64)"
   ]
  },
  {
   "cell_type": "code",
   "execution_count": 4,
   "id": "3cc1bc22-e43f-44ab-8dd9-fc07b76fd5ea",
   "metadata": {},
   "outputs": [
    {
     "data": {
      "text/plain": [
       "np.int64(3)"
      ]
     },
     "execution_count": 4,
     "metadata": {},
     "output_type": "execute_result"
    }
   ],
   "source": [
    "myarr[0,0]"
   ]
  },
  {
   "cell_type": "code",
   "execution_count": 7,
   "id": "865d6897-6c10-48a1-91ba-e2ff751d5a66",
   "metadata": {},
   "outputs": [
    {
     "data": {
      "text/plain": [
       "dtype('int64')"
      ]
     },
     "execution_count": 7,
     "metadata": {},
     "output_type": "execute_result"
    }
   ],
   "source": [
    "myarr.dtype"
   ]
  },
  {
   "cell_type": "code",
   "execution_count": null,
   "id": "7b6caac9-0369-4574-9cb3-5851b7f99eb0",
   "metadata": {},
   "outputs": [],
   "source": []
  }
 ],
 "metadata": {
  "kernelspec": {
   "display_name": "Python 3 (ipykernel)",
   "language": "python",
   "name": "python3"
  },
  "language_info": {
   "codemirror_mode": {
    "name": "ipython",
    "version": 3
   },
   "file_extension": ".py",
   "mimetype": "text/x-python",
   "name": "python",
   "nbconvert_exporter": "python",
   "pygments_lexer": "ipython3",
   "version": "3.13.3"
  }
 },
 "nbformat": 4,
 "nbformat_minor": 5
}
